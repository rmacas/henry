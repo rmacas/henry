{
 "cells": [
  {
   "cell_type": "code",
   "execution_count": null,
   "id": "33592370-4116-424d-8e1d-b9416af1df2c",
   "metadata": {},
   "outputs": [],
   "source": [
    "import numpy as np\n",
    "import matplotlib.pyplot as plt\n",
    "from gwpy.table import GravitySpyTable\n",
    "from gwpy.timeseries import TimeSeries"
   ]
  },
  {
   "cell_type": "markdown",
   "id": "97fa40d0",
   "metadata": {},
   "source": [
    "# Get t0s"
   ]
  },
  {
   "cell_type": "code",
   "execution_count": null,
   "id": "e4a07a0e-b267-4e8d-989f-5d051b59a491",
   "metadata": {},
   "outputs": [],
   "source": [
    "# read GSpy table \n",
    "# https://zenodo.org/record/5649212/files/L1_O3a.csv, accessed on 17/07/2023\n",
    "O3a = GravitySpyTable.read('L1_O3a.csv')"
   ]
  },
  {
   "cell_type": "code",
   "execution_count": null,
   "id": "e8aad5e3-fb3b-4bbf-99eb-d543e529dfa6",
   "metadata": {},
   "outputs": [],
   "source": [
    "# plot glitch params\n",
    "columns = ['peak_time', 'duration', 'peak_frequency', 'central_freq', 'bandwidth', 'snr']\n",
    "\n",
    "def plot_params(dframe, columns):\n",
    "    for col in columns:\n",
    "        plt.figure()\n",
    "        plt.hist(dframe[col], 20)\n",
    "        plt.title(col)\n",
    "        plt.show()"
   ]
  },
  {
   "cell_type": "code",
   "execution_count": null,
   "id": "7710c24c-1f4c-4210-ac2e-abc9f8521978",
   "metadata": {},
   "outputs": [],
   "source": [
    "# remove duplicates\n",
    "def rm_dupes(dframe):\n",
    "    \n",
    "    t0 = dframe['peak_time'] + dframe['peak_time_ns']/1e9\n",
    "    t0 = np.array(t0)\n",
    "    t0_shifted = np.roll(t0, -1)\n",
    "    diff = t0_shifted - t0\n",
    "\n",
    "    duplicate_idx = np.where(diff < 32)[0]\n",
    "    \n",
    "    cleaned_dframe = dframe.drop(dframe.index[duplicate_idx])\n",
    "\n",
    "    return cleaned_dframe"
   ]
  },
  {
   "cell_type": "code",
   "execution_count": null,
   "id": "22e65a22-600f-44be-a9e0-bcd70e2bb985",
   "metadata": {},
   "outputs": [],
   "source": [
    "blips_lf = O3a[(O3a[\"ml_label\"] == \"Blip_Low_Frequency\") \n",
    "            & (O3a[\"ml_confidence\"] > 0.99) \n",
    "            & (O3a[\"snr\"] > 8)  \n",
    "            & (O3a[\"duration\"] < 2)\n",
    "            & (O3a[\"peak_frequency\"] < 250)\n",
    "            & (O3a[\"central_freq\"] < 250)\n",
    "            & (O3a[\"bandwidth\"] < 250)     \n",
    "            ]\n",
    "\n",
    "blips_lf.sort('peak_time')\n",
    "blips_lf = blips_lf.to_pandas()\n",
    "blips_lf = rm_dupes(blips_lf)\n",
    "\n",
    "len(blips_lf)"
   ]
  },
  {
   "cell_type": "code",
   "execution_count": null,
   "id": "dadd65c9-1d92-47b1-988a-5787a33faf93",
   "metadata": {},
   "outputs": [],
   "source": [
    "plot_params(blips_lf, columns)"
   ]
  },
  {
   "cell_type": "code",
   "execution_count": null,
   "id": "446a5407-b788-47f6-aba5-e659b320a38c",
   "metadata": {},
   "outputs": [],
   "source": [
    "# get t0\n",
    "t0 = blips_lf['peak_time'] + blips_lf['peak_time_ns']/1e9\n",
    "t0 = t0.to_numpy()\n",
    "np.savetxt('t0_blips_lf.txt', t0)"
   ]
  },
  {
   "cell_type": "markdown",
   "id": "66c4fb4f",
   "metadata": {},
   "source": [
    "# Get low frequency blips"
   ]
  },
  {
   "cell_type": "code",
   "execution_count": null,
   "id": "e40f36ed",
   "metadata": {},
   "outputs": [],
   "source": [
    "# files/dirs\n",
    "fname = 't0_blips.txt'\n",
    "fdir = 'data'\n",
    "\n",
    "# params\n",
    "asd_duration = 64\n",
    "fsample = 512\n",
    "glitch_duration = 2\n",
    "\n",
    "# channel/frame data\n",
    "frame = 'L1_HOFT_C01'\n",
    "channel = 'L1:DCS-CALIB_STRAIN_CLEAN_C01'\n",
    "\n",
    "# load data\n",
    "t0s = np.loadtxt(fname)\n",
    "\n",
    "# get glitches\n",
    "for t0 in t0s:\n",
    "\n",
    "    print(t0)\n",
    "\n",
    "    gps_asd_pre = t0 - glitch_duration - asd_duration\n",
    "    gps_asd_post = t0 + glitch_duration + asd_duration\n",
    "\n",
    "    try:\n",
    "        tseries_pre = TimeSeries.get(channel=channel, start=gps_asd_pre-asd_duration/2, end=gps_asd_pre+asd_duration/2, frametype=frame).resample(fsample)\n",
    "        tseries_post = TimeSeries.get(channel=channel, start=gps_asd_post-asd_duration/2, end=gps_asd_post+asd_duration/2, frametype=frame).resample(fsample)\n",
    "\n",
    "        asd_pre = tseries_pre.asd(4, 2, method='median')\n",
    "        asd_post = tseries_post.asd(4, 2, method='median')\n",
    "\n",
    "        asd_mean = (asd_pre + asd_post)/2\n",
    "\n",
    "        tseries_glitch = TimeSeries.get(channel=channel, start=t0-glitch_duration*2, end=t0+glitch_duration*2, frametype=frame).resample(fsample)\n",
    "        tseries_glitch_whitened = tseries_glitch.whiten(asd=asd_mean).crop(t0-glitch_duration, t0+glitch_duration)\n",
    "\n",
    "        tseries_glitch_array = np.array([tseries_glitch.times, tseries_glitch]).T\n",
    "        tseries_glitch_whitened_array = np.array([tseries_glitch_whitened.times, tseries_glitch_whitened]).T\n",
    "        asd_mean_array = np.array([asd_mean.frequencies, asd_mean]).T\n",
    "\n",
    "        np.save(f'{fdir}/{t0}_glitch_raw', tseries_glitch_array)\n",
    "        np.save(f'{fdir}/{t0}_glitch_whitened', tseries_glitch_whitened_array)\n",
    "        np.save(f'{fdir}/{t0}_asd_mean', asd_mean_array)\n",
    "\n",
    "    except KeyboardInterrupt:\n",
    "        print('KeyboardInterrupt')\n",
    "        exit()\n",
    "\n",
    "    except:\n",
    "        print(f'Could not get the glitch {t0}')"
   ]
  }
 ],
 "metadata": {
  "kernelspec": {
   "display_name": "pymc3",
   "language": "python",
   "name": "pymc3"
  },
  "language_info": {
   "codemirror_mode": {
    "name": "ipython",
    "version": 3
   },
   "file_extension": ".py",
   "mimetype": "text/x-python",
   "name": "python",
   "nbconvert_exporter": "python",
   "pygments_lexer": "ipython3",
   "version": "3.10.6"
  }
 },
 "nbformat": 4,
 "nbformat_minor": 5
}
